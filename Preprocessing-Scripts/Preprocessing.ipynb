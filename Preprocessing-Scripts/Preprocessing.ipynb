{
 "cells": [
  {
   "cell_type": "markdown",
   "metadata": {},
   "source": [
    "<h1>Preprocessing for Thesis Work</h1>\n",
    "\n",
    "Author: Joshua White\n",
    "\n",
    "This notebook will contain code used to preprocess a csv file for my CSCE 799 Expirment and my CSCE 623 Project. \n",
    "\n",
    "Sources:  \n",
    "The following two articles I used to get me started  \n",
    "https://towardsdatascience.com/the-basics-of-eda-with-candy-83b2e8ad9e63  \n",
    "https://towardsdatascience.com/nlp-for-beginners-cleaning-preprocessing-text-data-ae8e306bef0f  \n",
    "Useful source for pandas: https://www.geeksforgeeks.org/iterating-over-rows-and-columns-in-pandas-dataframe/  \n",
    "\n",
    "First we will start with some Exploratory Data Analysis (EDA), or just looking at the data. In this notebook I will be looking at the \n"
   ]
  },
  {
   "cell_type": "code",
   "execution_count": 1,
   "metadata": {},
   "outputs": [],
   "source": [
    "#Imports:\n",
    "import pandas as pd\n",
    "import nltk\n",
    "from bs4 import BeautifulSoup\n",
    "import string #Will be used for a list of punctuation\n",
    "import re\n",
    "\n",
    "#NLTK Imports:\n",
    "from nltk.corpus import stopwords\n",
    "from nltk.tokenize import RegexpTokenizer\n",
    "from nltk.stem import WordNetLemmatizer\n",
    "from nltk.stem.porter import PorterStemmer"
   ]
  },
  {
   "cell_type": "markdown",
   "metadata": {},
   "source": [
    "Now I'm going to use pandas to import the csv file into a data frame. \n",
    "*** IF YOU WANT TO CHANGE THE INPUT CSV FILENAME DO SO HERE *** The nyc-jobs.csv file will be what I'm initially working on and most comments in this notebook will reflect that. "
   ]
  },
  {
   "cell_type": "code",
   "execution_count": 2,
   "metadata": {},
   "outputs": [],
   "source": [
    "DFrame = pd.read_csv('nyc-jobs.csv')"
   ]
  },
  {
   "cell_type": "markdown",
   "metadata": {},
   "source": [
    "<h2>Initial Look at the data</h2>\n",
    "\n",
    "head() call just to peek at the top 5 rows of the file:"
   ]
  },
  {
   "cell_type": "code",
   "execution_count": 3,
   "metadata": {
    "scrolled": false
   },
   "outputs": [
    {
     "data": {
      "text/html": [
       "<div>\n",
       "<style scoped>\n",
       "    .dataframe tbody tr th:only-of-type {\n",
       "        vertical-align: middle;\n",
       "    }\n",
       "\n",
       "    .dataframe tbody tr th {\n",
       "        vertical-align: top;\n",
       "    }\n",
       "\n",
       "    .dataframe thead th {\n",
       "        text-align: right;\n",
       "    }\n",
       "</style>\n",
       "<table border=\"1\" class=\"dataframe\">\n",
       "  <thead>\n",
       "    <tr style=\"text-align: right;\">\n",
       "      <th></th>\n",
       "      <th>Job ID</th>\n",
       "      <th>Agency</th>\n",
       "      <th>Posting Type</th>\n",
       "      <th># Of Positions</th>\n",
       "      <th>Business Title</th>\n",
       "      <th>Civil Service Title</th>\n",
       "      <th>Title Code No</th>\n",
       "      <th>Level</th>\n",
       "      <th>Job Category</th>\n",
       "      <th>Full-Time/Part-Time indicator</th>\n",
       "      <th>...</th>\n",
       "      <th>Additional Information</th>\n",
       "      <th>To Apply</th>\n",
       "      <th>Hours/Shift</th>\n",
       "      <th>Work Location 1</th>\n",
       "      <th>Recruitment Contact</th>\n",
       "      <th>Residency Requirement</th>\n",
       "      <th>Posting Date</th>\n",
       "      <th>Post Until</th>\n",
       "      <th>Posting Updated</th>\n",
       "      <th>Process Date</th>\n",
       "    </tr>\n",
       "  </thead>\n",
       "  <tbody>\n",
       "    <tr>\n",
       "      <th>0</th>\n",
       "      <td>87990</td>\n",
       "      <td>DEPARTMENT OF BUSINESS SERV.</td>\n",
       "      <td>Internal</td>\n",
       "      <td>1</td>\n",
       "      <td>Account Manager</td>\n",
       "      <td>CONTRACT REVIEWER (OFFICE OF L</td>\n",
       "      <td>40563</td>\n",
       "      <td>1</td>\n",
       "      <td>NaN</td>\n",
       "      <td>NaN</td>\n",
       "      <td>...</td>\n",
       "      <td>Salary range for this position is: $42,405 - $...</td>\n",
       "      <td>NaN</td>\n",
       "      <td>NaN</td>\n",
       "      <td>NaN</td>\n",
       "      <td>NaN</td>\n",
       "      <td>New York City residency is generally required ...</td>\n",
       "      <td>2011-06-24T00:00:00.000</td>\n",
       "      <td>NaN</td>\n",
       "      <td>2011-06-24T00:00:00.000</td>\n",
       "      <td>2019-12-17T00:00:00.000</td>\n",
       "    </tr>\n",
       "    <tr>\n",
       "      <th>1</th>\n",
       "      <td>97899</td>\n",
       "      <td>DEPARTMENT OF BUSINESS SERV.</td>\n",
       "      <td>Internal</td>\n",
       "      <td>1</td>\n",
       "      <td>EXECUTIVE DIRECTOR, BUSINESS DEVELOPMENT</td>\n",
       "      <td>ADMINISTRATIVE BUSINESS PROMOT</td>\n",
       "      <td>10009</td>\n",
       "      <td>M3</td>\n",
       "      <td>NaN</td>\n",
       "      <td>F</td>\n",
       "      <td>...</td>\n",
       "      <td>NaN</td>\n",
       "      <td>In addition to applying through this website, ...</td>\n",
       "      <td>NaN</td>\n",
       "      <td>NaN</td>\n",
       "      <td>NaN</td>\n",
       "      <td>New York City residency is generally required ...</td>\n",
       "      <td>2012-01-26T00:00:00.000</td>\n",
       "      <td>NaN</td>\n",
       "      <td>2012-01-26T00:00:00.000</td>\n",
       "      <td>2019-12-17T00:00:00.000</td>\n",
       "    </tr>\n",
       "    <tr>\n",
       "      <th>2</th>\n",
       "      <td>132292</td>\n",
       "      <td>NYC HOUSING AUTHORITY</td>\n",
       "      <td>External</td>\n",
       "      <td>52</td>\n",
       "      <td>Maintenance Worker - Technical Services-Heatin...</td>\n",
       "      <td>MAINTENANCE WORKER</td>\n",
       "      <td>90698</td>\n",
       "      <td>0</td>\n",
       "      <td>Maintenance &amp; Operations</td>\n",
       "      <td>F</td>\n",
       "      <td>...</td>\n",
       "      <td>1.  A Motor Vehicle Driverâ€™s License valid i...</td>\n",
       "      <td>Click the \"Apply Now\" button.</td>\n",
       "      <td>NaN</td>\n",
       "      <td>NaN</td>\n",
       "      <td>NaN</td>\n",
       "      <td>NYCHA has no residency requirements.</td>\n",
       "      <td>2013-10-24T00:00:00.000</td>\n",
       "      <td>NaN</td>\n",
       "      <td>2013-12-12T00:00:00.000</td>\n",
       "      <td>2019-12-17T00:00:00.000</td>\n",
       "    </tr>\n",
       "    <tr>\n",
       "      <th>3</th>\n",
       "      <td>132292</td>\n",
       "      <td>NYC HOUSING AUTHORITY</td>\n",
       "      <td>Internal</td>\n",
       "      <td>52</td>\n",
       "      <td>Maintenance Worker - Technical Services-Heatin...</td>\n",
       "      <td>MAINTENANCE WORKER</td>\n",
       "      <td>90698</td>\n",
       "      <td>0</td>\n",
       "      <td>Maintenance &amp; Operations</td>\n",
       "      <td>F</td>\n",
       "      <td>...</td>\n",
       "      <td>1.  A Motor Vehicle Driverâ€™s License valid i...</td>\n",
       "      <td>Click the \"Apply Now\" button.</td>\n",
       "      <td>NaN</td>\n",
       "      <td>NaN</td>\n",
       "      <td>NaN</td>\n",
       "      <td>NYCHA has no residency requirements.</td>\n",
       "      <td>2013-10-24T00:00:00.000</td>\n",
       "      <td>NaN</td>\n",
       "      <td>2013-12-12T00:00:00.000</td>\n",
       "      <td>2019-12-17T00:00:00.000</td>\n",
       "    </tr>\n",
       "    <tr>\n",
       "      <th>4</th>\n",
       "      <td>133921</td>\n",
       "      <td>NYC HOUSING AUTHORITY</td>\n",
       "      <td>Internal</td>\n",
       "      <td>50</td>\n",
       "      <td>Temporary Painter</td>\n",
       "      <td>PAINTER</td>\n",
       "      <td>91830</td>\n",
       "      <td>0</td>\n",
       "      <td>Maintenance &amp; Operations</td>\n",
       "      <td>F</td>\n",
       "      <td>...</td>\n",
       "      <td>SPECIAL NOTE:    1.  This is a temporary assig...</td>\n",
       "      <td>Click the \"Apply Now\" button.</td>\n",
       "      <td>NaN</td>\n",
       "      <td>NaN</td>\n",
       "      <td>NaN</td>\n",
       "      <td>NYCHA has no residency requirement.</td>\n",
       "      <td>2014-01-09T00:00:00.000</td>\n",
       "      <td>NaN</td>\n",
       "      <td>2014-01-08T00:00:00.000</td>\n",
       "      <td>2019-12-17T00:00:00.000</td>\n",
       "    </tr>\n",
       "  </tbody>\n",
       "</table>\n",
       "<p>5 rows × 28 columns</p>\n",
       "</div>"
      ],
      "text/plain": [
       "   Job ID                        Agency Posting Type  # Of Positions  \\\n",
       "0   87990  DEPARTMENT OF BUSINESS SERV.     Internal               1   \n",
       "1   97899  DEPARTMENT OF BUSINESS SERV.     Internal               1   \n",
       "2  132292         NYC HOUSING AUTHORITY     External              52   \n",
       "3  132292         NYC HOUSING AUTHORITY     Internal              52   \n",
       "4  133921         NYC HOUSING AUTHORITY     Internal              50   \n",
       "\n",
       "                                      Business Title  \\\n",
       "0                                    Account Manager   \n",
       "1           EXECUTIVE DIRECTOR, BUSINESS DEVELOPMENT   \n",
       "2  Maintenance Worker - Technical Services-Heatin...   \n",
       "3  Maintenance Worker - Technical Services-Heatin...   \n",
       "4                                  Temporary Painter   \n",
       "\n",
       "              Civil Service Title Title Code No Level  \\\n",
       "0  CONTRACT REVIEWER (OFFICE OF L         40563     1   \n",
       "1  ADMINISTRATIVE BUSINESS PROMOT         10009    M3   \n",
       "2              MAINTENANCE WORKER         90698     0   \n",
       "3              MAINTENANCE WORKER         90698     0   \n",
       "4                         PAINTER         91830     0   \n",
       "\n",
       "               Job Category Full-Time/Part-Time indicator  ...  \\\n",
       "0                       NaN                           NaN  ...   \n",
       "1                       NaN                             F  ...   \n",
       "2  Maintenance & Operations                             F  ...   \n",
       "3  Maintenance & Operations                             F  ...   \n",
       "4  Maintenance & Operations                             F  ...   \n",
       "\n",
       "                              Additional Information  \\\n",
       "0  Salary range for this position is: $42,405 - $...   \n",
       "1                                                NaN   \n",
       "2  1.  A Motor Vehicle Driverâ€™s License valid i...   \n",
       "3  1.  A Motor Vehicle Driverâ€™s License valid i...   \n",
       "4  SPECIAL NOTE:    1.  This is a temporary assig...   \n",
       "\n",
       "                                            To Apply Hours/Shift  \\\n",
       "0                                                NaN         NaN   \n",
       "1  In addition to applying through this website, ...         NaN   \n",
       "2                      Click the \"Apply Now\" button.         NaN   \n",
       "3                      Click the \"Apply Now\" button.         NaN   \n",
       "4                      Click the \"Apply Now\" button.         NaN   \n",
       "\n",
       "  Work Location 1 Recruitment Contact  \\\n",
       "0             NaN                 NaN   \n",
       "1             NaN                 NaN   \n",
       "2             NaN                 NaN   \n",
       "3             NaN                 NaN   \n",
       "4             NaN                 NaN   \n",
       "\n",
       "                               Residency Requirement             Posting Date  \\\n",
       "0  New York City residency is generally required ...  2011-06-24T00:00:00.000   \n",
       "1  New York City residency is generally required ...  2012-01-26T00:00:00.000   \n",
       "2               NYCHA has no residency requirements.  2013-10-24T00:00:00.000   \n",
       "3               NYCHA has no residency requirements.  2013-10-24T00:00:00.000   \n",
       "4                NYCHA has no residency requirement.  2014-01-09T00:00:00.000   \n",
       "\n",
       "  Post Until          Posting Updated             Process Date  \n",
       "0        NaN  2011-06-24T00:00:00.000  2019-12-17T00:00:00.000  \n",
       "1        NaN  2012-01-26T00:00:00.000  2019-12-17T00:00:00.000  \n",
       "2        NaN  2013-12-12T00:00:00.000  2019-12-17T00:00:00.000  \n",
       "3        NaN  2013-12-12T00:00:00.000  2019-12-17T00:00:00.000  \n",
       "4        NaN  2014-01-08T00:00:00.000  2019-12-17T00:00:00.000  \n",
       "\n",
       "[5 rows x 28 columns]"
      ]
     },
     "execution_count": 3,
     "metadata": {},
     "output_type": "execute_result"
    }
   ],
   "source": [
    "DFrame.head()"
   ]
  },
  {
   "cell_type": "markdown",
   "metadata": {},
   "source": [
    "shape call to look at the size of the rows & column of the data frame object:"
   ]
  },
  {
   "cell_type": "code",
   "execution_count": 4,
   "metadata": {},
   "outputs": [
    {
     "data": {
      "text/plain": [
       "(2946, 28)"
      ]
     },
     "execution_count": 4,
     "metadata": {},
     "output_type": "execute_result"
    }
   ],
   "source": [
    "DFrame.shape"
   ]
  },
  {
   "cell_type": "markdown",
   "metadata": {},
   "source": [
    "<h2>Check for Missing Values</h2>\n",
    "\n",
    "Now if we want to we can check to see how many missing values we have per row. To do this we will use the isnull() function on the data frame, then use .mean() to get the percent of missing values from each column, and finally add .sort_values(ascending=False) to sort the list (or you could leave it off if you wanted)."
   ]
  },
  {
   "cell_type": "code",
   "execution_count": 5,
   "metadata": {},
   "outputs": [
    {
     "data": {
      "text/plain": [
       "Recruitment Contact              1.000000\n",
       "Post Until                       0.704345\n",
       "Hours/Shift                      0.699932\n",
       "Work Location 1                  0.539036\n",
       "Additional Information           0.370672\n",
       "Preferred Skills                 0.133401\n",
       "Full-Time/Part-Time indicator    0.066191\n",
       "Minimum Qual Requirements        0.006789\n",
       "Posting Updated                  0.001358\n",
       "Process Date                     0.001358\n",
       "Residency Requirement            0.001358\n",
       "Posting Date                     0.001358\n",
       "Job Category                     0.000679\n",
       "To Apply                         0.000339\n",
       "Title Code No                    0.000000\n",
       "Agency                           0.000000\n",
       "Posting Type                     0.000000\n",
       "# Of Positions                   0.000000\n",
       "Business Title                   0.000000\n",
       "Civil Service Title              0.000000\n",
       "Work Location                    0.000000\n",
       "Level                            0.000000\n",
       "Salary Range From                0.000000\n",
       "Salary Range To                  0.000000\n",
       "Salary Frequency                 0.000000\n",
       "Division/Work Unit               0.000000\n",
       "Job Description                  0.000000\n",
       "Job ID                           0.000000\n",
       "dtype: float64"
      ]
     },
     "execution_count": 5,
     "metadata": {},
     "output_type": "execute_result"
    }
   ],
   "source": [
    "DFrame.isnull().mean().sort_values(ascending=False)\n",
    "#Flip the comment if you want to sort the values or not\n",
    "#DFrame.isnull().mean()"
   ]
  },
  {
   "cell_type": "markdown",
   "metadata": {},
   "source": [
    "<h2> Remove Columns</h2>\n",
    "\n",
    "After looking at the above list you can see if you want to remove columns or not. In the nyc-jobs.csv file the \"Recruitment Contact\" column was 100% empty, so we will just remove it using .drop(columns=['column name here'], inplace=True). Note that this just removes the column from the data frame object, as of right now the nyc-jobs.csv file is still 28 columns!"
   ]
  },
  {
   "cell_type": "code",
   "execution_count": 6,
   "metadata": {},
   "outputs": [],
   "source": [
    "#If you wanted to look at the contents of the columns that arn't NaN (empty) we could with the following line\n",
    "#DFrame['Recruitment Contact'].value_counts(dropna=False)"
   ]
  },
  {
   "cell_type": "code",
   "execution_count": 7,
   "metadata": {},
   "outputs": [
    {
     "data": {
      "text/plain": [
       "(2946, 27)"
      ]
     },
     "execution_count": 7,
     "metadata": {},
     "output_type": "execute_result"
    }
   ],
   "source": [
    "DFrame.drop(columns=['Recruitment Contact'], inplace=True)\n",
    "#Check to see that it was removed using shape\n",
    "DFrame.shape"
   ]
  },
  {
   "cell_type": "markdown",
   "metadata": {},
   "source": [
    "We can use the .dtypes to see the data type for each column. When you see object as the type it is normally a string. "
   ]
  },
  {
   "cell_type": "code",
   "execution_count": 8,
   "metadata": {},
   "outputs": [
    {
     "data": {
      "text/plain": [
       "Job ID                             int64\n",
       "Agency                            object\n",
       "Posting Type                      object\n",
       "# Of Positions                     int64\n",
       "Business Title                    object\n",
       "Civil Service Title               object\n",
       "Title Code No                     object\n",
       "Level                             object\n",
       "Job Category                      object\n",
       "Full-Time/Part-Time indicator     object\n",
       "Salary Range From                float64\n",
       "Salary Range To                  float64\n",
       "Salary Frequency                  object\n",
       "Work Location                     object\n",
       "Division/Work Unit                object\n",
       "Job Description                   object\n",
       "Minimum Qual Requirements         object\n",
       "Preferred Skills                  object\n",
       "Additional Information            object\n",
       "To Apply                          object\n",
       "Hours/Shift                       object\n",
       "Work Location 1                   object\n",
       "Residency Requirement             object\n",
       "Posting Date                      object\n",
       "Post Until                        object\n",
       "Posting Updated                   object\n",
       "Process Date                      object\n",
       "dtype: object"
      ]
     },
     "execution_count": 8,
     "metadata": {},
     "output_type": "execute_result"
    }
   ],
   "source": [
    "DFrame.dtypes"
   ]
  },
  {
   "cell_type": "markdown",
   "metadata": {},
   "source": [
    "<h2>Fill NaNs</h2>\n",
    "\n",
    "We have seen how much of our data frame is empty, or NaN, now we can use a for loop that will replace all of the missing values with a string \"unknown\" or a 0 for our int64 and float64 types. "
   ]
  },
  {
   "cell_type": "code",
   "execution_count": 9,
   "metadata": {},
   "outputs": [],
   "source": [
    "for col in DFrame:\n",
    "    if type(DFrame[col])=='object':\n",
    "        #Fill all emplty values with the 'unknown', or can change here\n",
    "        DFrame[col] = DFrame[col].fillna(value='unknown')\n",
    "    else:\n",
    "        #Here we will change all empty values with a 0\n",
    "        DFrame[col] = DFrame[col].fillna(value=0)"
   ]
  },
  {
   "cell_type": "markdown",
   "metadata": {},
   "source": [
    "Then check to make sure it worked"
   ]
  },
  {
   "cell_type": "code",
   "execution_count": 10,
   "metadata": {},
   "outputs": [
    {
     "data": {
      "text/plain": [
       "0"
      ]
     },
     "execution_count": 10,
     "metadata": {},
     "output_type": "execute_result"
    }
   ],
   "source": [
    "DFrame.isnull().sum().sum()"
   ]
  },
  {
   "cell_type": "markdown",
   "metadata": {},
   "source": [
    "<h2>Normalize Column Names</h2>\n",
    "\n",
    "Now we can change the column names to be lowercase and void of special characters. To look at a list of the column names use .columns on the data frame object. "
   ]
  },
  {
   "cell_type": "code",
   "execution_count": 11,
   "metadata": {},
   "outputs": [
    {
     "data": {
      "text/plain": [
       "Index(['Job ID', 'Agency', 'Posting Type', '# Of Positions', 'Business Title',\n",
       "       'Civil Service Title', 'Title Code No', 'Level', 'Job Category',\n",
       "       'Full-Time/Part-Time indicator', 'Salary Range From', 'Salary Range To',\n",
       "       'Salary Frequency', 'Work Location', 'Division/Work Unit',\n",
       "       'Job Description', 'Minimum Qual Requirements', 'Preferred Skills',\n",
       "       'Additional Information', 'To Apply', 'Hours/Shift', 'Work Location 1',\n",
       "       'Residency Requirement', 'Posting Date', 'Post Until',\n",
       "       'Posting Updated', 'Process Date'],\n",
       "      dtype='object')"
      ]
     },
     "execution_count": 11,
     "metadata": {},
     "output_type": "execute_result"
    }
   ],
   "source": [
    "DFrame.columns"
   ]
  },
  {
   "cell_type": "markdown",
   "metadata": {},
   "source": [
    "Then we will use .lower() and .str.replace() to make any changes."
   ]
  },
  {
   "cell_type": "code",
   "execution_count": 12,
   "metadata": {},
   "outputs": [
    {
     "data": {
      "text/plain": [
       "Index(['job_id', 'agency', 'posting_type', 'no_of_positions', 'business_title',\n",
       "       'civil_service_title', 'title_code_no', 'level', 'job_category',\n",
       "       'full-time_part-time_indicator', 'salary_range_from', 'salary_range_to',\n",
       "       'salary_frequency', 'work_location', 'division_work_unit',\n",
       "       'job_description', 'minimum_qual_requirements', 'preferred_skills',\n",
       "       'additional_information', 'to_apply', 'hours_shift', 'work_location_1',\n",
       "       'residency_requirement', 'posting_date', 'post_until',\n",
       "       'posting_updated', 'process_date'],\n",
       "      dtype='object')"
      ]
     },
     "execution_count": 12,
     "metadata": {},
     "output_type": "execute_result"
    }
   ],
   "source": [
    "DFrame.columns = [x.lower() for x in DFrame.columns.str.replace(\" \",\"_\").str.replace(\"/\",\"_\").str.replace(\"#\",\"no\")]\n",
    "DFrame.columns"
   ]
  },
  {
   "cell_type": "markdown",
   "metadata": {},
   "source": [
    "<h2>Next Steps</h2>\n",
    "\n",
    "Now we are done with the EDA steps for the data frame and we will move on to other preprocessing. "
   ]
  },
  {
   "cell_type": "markdown",
   "metadata": {},
   "source": [
    "<h2>Remove Duplicated Lines</h2>\n",
    "\n",
    "Upon looking through the nyc-jobs.csv file there are some lines are are duplicates, and an easy way to tell is based off of the 'job_id' column value. You can use pandas to remove the duplicated lines. \n",
    "\n",
    "Source:\n",
    "https://stackoverflow.com/questions/15741564/removing-duplicate-rows-from-a-csv-file-using-a-python-script &\n",
    "https://www.geeksforgeeks.org/python-pandas-dataframe-drop_duplicates/\n"
   ]
  },
  {
   "cell_type": "code",
   "execution_count": 13,
   "metadata": {},
   "outputs": [],
   "source": [
    "DFrame.drop_duplicates(subset = \"job_id\", inplace = True)"
   ]
  },
  {
   "cell_type": "markdown",
   "metadata": {},
   "source": [
    "If you look at the origional .head() call lines 2 and 3 had the same \"job_id\", we can call .head() again to check to ensure the duplicaiton removal worked. "
   ]
  },
  {
   "cell_type": "code",
   "execution_count": 14,
   "metadata": {},
   "outputs": [
    {
     "data": {
      "text/html": [
       "<div>\n",
       "<style scoped>\n",
       "    .dataframe tbody tr th:only-of-type {\n",
       "        vertical-align: middle;\n",
       "    }\n",
       "\n",
       "    .dataframe tbody tr th {\n",
       "        vertical-align: top;\n",
       "    }\n",
       "\n",
       "    .dataframe thead th {\n",
       "        text-align: right;\n",
       "    }\n",
       "</style>\n",
       "<table border=\"1\" class=\"dataframe\">\n",
       "  <thead>\n",
       "    <tr style=\"text-align: right;\">\n",
       "      <th></th>\n",
       "      <th>job_id</th>\n",
       "      <th>agency</th>\n",
       "      <th>posting_type</th>\n",
       "      <th>no_of_positions</th>\n",
       "      <th>business_title</th>\n",
       "      <th>civil_service_title</th>\n",
       "      <th>title_code_no</th>\n",
       "      <th>level</th>\n",
       "      <th>job_category</th>\n",
       "      <th>full-time_part-time_indicator</th>\n",
       "      <th>...</th>\n",
       "      <th>preferred_skills</th>\n",
       "      <th>additional_information</th>\n",
       "      <th>to_apply</th>\n",
       "      <th>hours_shift</th>\n",
       "      <th>work_location_1</th>\n",
       "      <th>residency_requirement</th>\n",
       "      <th>posting_date</th>\n",
       "      <th>post_until</th>\n",
       "      <th>posting_updated</th>\n",
       "      <th>process_date</th>\n",
       "    </tr>\n",
       "  </thead>\n",
       "  <tbody>\n",
       "    <tr>\n",
       "      <th>0</th>\n",
       "      <td>87990</td>\n",
       "      <td>DEPARTMENT OF BUSINESS SERV.</td>\n",
       "      <td>Internal</td>\n",
       "      <td>1</td>\n",
       "      <td>Account Manager</td>\n",
       "      <td>CONTRACT REVIEWER (OFFICE OF L</td>\n",
       "      <td>40563</td>\n",
       "      <td>1</td>\n",
       "      <td>0</td>\n",
       "      <td>0</td>\n",
       "      <td>...</td>\n",
       "      <td>â€¢\\tExcellent interpersonal and organizationa...</td>\n",
       "      <td>Salary range for this position is: $42,405 - $...</td>\n",
       "      <td>0</td>\n",
       "      <td>0</td>\n",
       "      <td>0</td>\n",
       "      <td>New York City residency is generally required ...</td>\n",
       "      <td>2011-06-24T00:00:00.000</td>\n",
       "      <td>0</td>\n",
       "      <td>2011-06-24T00:00:00.000</td>\n",
       "      <td>2019-12-17T00:00:00.000</td>\n",
       "    </tr>\n",
       "    <tr>\n",
       "      <th>1</th>\n",
       "      <td>97899</td>\n",
       "      <td>DEPARTMENT OF BUSINESS SERV.</td>\n",
       "      <td>Internal</td>\n",
       "      <td>1</td>\n",
       "      <td>EXECUTIVE DIRECTOR, BUSINESS DEVELOPMENT</td>\n",
       "      <td>ADMINISTRATIVE BUSINESS PROMOT</td>\n",
       "      <td>10009</td>\n",
       "      <td>M3</td>\n",
       "      <td>0</td>\n",
       "      <td>F</td>\n",
       "      <td>...</td>\n",
       "      <td>0</td>\n",
       "      <td>0</td>\n",
       "      <td>In addition to applying through this website, ...</td>\n",
       "      <td>0</td>\n",
       "      <td>0</td>\n",
       "      <td>New York City residency is generally required ...</td>\n",
       "      <td>2012-01-26T00:00:00.000</td>\n",
       "      <td>0</td>\n",
       "      <td>2012-01-26T00:00:00.000</td>\n",
       "      <td>2019-12-17T00:00:00.000</td>\n",
       "    </tr>\n",
       "    <tr>\n",
       "      <th>2</th>\n",
       "      <td>132292</td>\n",
       "      <td>NYC HOUSING AUTHORITY</td>\n",
       "      <td>External</td>\n",
       "      <td>52</td>\n",
       "      <td>Maintenance Worker - Technical Services-Heatin...</td>\n",
       "      <td>MAINTENANCE WORKER</td>\n",
       "      <td>90698</td>\n",
       "      <td>0</td>\n",
       "      <td>Maintenance &amp; Operations</td>\n",
       "      <td>F</td>\n",
       "      <td>...</td>\n",
       "      <td>1.  A High School Diploma or GED.  2.  CDL Dri...</td>\n",
       "      <td>1.  A Motor Vehicle Driverâ€™s License valid i...</td>\n",
       "      <td>Click the \"Apply Now\" button.</td>\n",
       "      <td>0</td>\n",
       "      <td>0</td>\n",
       "      <td>NYCHA has no residency requirements.</td>\n",
       "      <td>2013-10-24T00:00:00.000</td>\n",
       "      <td>0</td>\n",
       "      <td>2013-12-12T00:00:00.000</td>\n",
       "      <td>2019-12-17T00:00:00.000</td>\n",
       "    </tr>\n",
       "    <tr>\n",
       "      <th>4</th>\n",
       "      <td>133921</td>\n",
       "      <td>NYC HOUSING AUTHORITY</td>\n",
       "      <td>Internal</td>\n",
       "      <td>50</td>\n",
       "      <td>Temporary Painter</td>\n",
       "      <td>PAINTER</td>\n",
       "      <td>91830</td>\n",
       "      <td>0</td>\n",
       "      <td>Maintenance &amp; Operations</td>\n",
       "      <td>F</td>\n",
       "      <td>...</td>\n",
       "      <td>0</td>\n",
       "      <td>SPECIAL NOTE:    1.  This is a temporary assig...</td>\n",
       "      <td>Click the \"Apply Now\" button.</td>\n",
       "      <td>0</td>\n",
       "      <td>0</td>\n",
       "      <td>NYCHA has no residency requirement.</td>\n",
       "      <td>2014-01-09T00:00:00.000</td>\n",
       "      <td>0</td>\n",
       "      <td>2014-01-08T00:00:00.000</td>\n",
       "      <td>2019-12-17T00:00:00.000</td>\n",
       "    </tr>\n",
       "    <tr>\n",
       "      <th>6</th>\n",
       "      <td>137433</td>\n",
       "      <td>DEPT OF HEALTH/MENTAL HYGIENE</td>\n",
       "      <td>Internal</td>\n",
       "      <td>1</td>\n",
       "      <td>Contract Analyst</td>\n",
       "      <td>PROCUREMENT ANALYST</td>\n",
       "      <td>12158</td>\n",
       "      <td>3</td>\n",
       "      <td>Finance, Accounting, &amp; Procurement</td>\n",
       "      <td>F</td>\n",
       "      <td>...</td>\n",
       "      <td>Strong analytical background;  advanced profic...</td>\n",
       "      <td>0</td>\n",
       "      <td>Apply online with a cover letter to https://a1...</td>\n",
       "      <td>0</td>\n",
       "      <td>42-09 28th Street, Long Island City, NY</td>\n",
       "      <td>New York City residency is generally required ...</td>\n",
       "      <td>2013-12-09T00:00:00.000</td>\n",
       "      <td>0</td>\n",
       "      <td>2013-12-09T00:00:00.000</td>\n",
       "      <td>2019-12-17T00:00:00.000</td>\n",
       "    </tr>\n",
       "  </tbody>\n",
       "</table>\n",
       "<p>5 rows × 27 columns</p>\n",
       "</div>"
      ],
      "text/plain": [
       "   job_id                         agency posting_type  no_of_positions  \\\n",
       "0   87990   DEPARTMENT OF BUSINESS SERV.     Internal                1   \n",
       "1   97899   DEPARTMENT OF BUSINESS SERV.     Internal                1   \n",
       "2  132292          NYC HOUSING AUTHORITY     External               52   \n",
       "4  133921          NYC HOUSING AUTHORITY     Internal               50   \n",
       "6  137433  DEPT OF HEALTH/MENTAL HYGIENE     Internal                1   \n",
       "\n",
       "                                      business_title  \\\n",
       "0                                    Account Manager   \n",
       "1           EXECUTIVE DIRECTOR, BUSINESS DEVELOPMENT   \n",
       "2  Maintenance Worker - Technical Services-Heatin...   \n",
       "4                                  Temporary Painter   \n",
       "6                                   Contract Analyst   \n",
       "\n",
       "              civil_service_title title_code_no level  \\\n",
       "0  CONTRACT REVIEWER (OFFICE OF L         40563     1   \n",
       "1  ADMINISTRATIVE BUSINESS PROMOT         10009    M3   \n",
       "2              MAINTENANCE WORKER         90698     0   \n",
       "4                         PAINTER         91830     0   \n",
       "6             PROCUREMENT ANALYST         12158     3   \n",
       "\n",
       "                         job_category full-time_part-time_indicator  ...  \\\n",
       "0                                   0                             0  ...   \n",
       "1                                   0                             F  ...   \n",
       "2            Maintenance & Operations                             F  ...   \n",
       "4            Maintenance & Operations                             F  ...   \n",
       "6  Finance, Accounting, & Procurement                             F  ...   \n",
       "\n",
       "                                    preferred_skills  \\\n",
       "0  â€¢\\tExcellent interpersonal and organizationa...   \n",
       "1                                                  0   \n",
       "2  1.  A High School Diploma or GED.  2.  CDL Dri...   \n",
       "4                                                  0   \n",
       "6  Strong analytical background;  advanced profic...   \n",
       "\n",
       "                              additional_information  \\\n",
       "0  Salary range for this position is: $42,405 - $...   \n",
       "1                                                  0   \n",
       "2  1.  A Motor Vehicle Driverâ€™s License valid i...   \n",
       "4  SPECIAL NOTE:    1.  This is a temporary assig...   \n",
       "6                                                  0   \n",
       "\n",
       "                                            to_apply hours_shift  \\\n",
       "0                                                  0           0   \n",
       "1  In addition to applying through this website, ...           0   \n",
       "2                      Click the \"Apply Now\" button.           0   \n",
       "4                      Click the \"Apply Now\" button.           0   \n",
       "6  Apply online with a cover letter to https://a1...           0   \n",
       "\n",
       "                           work_location_1  \\\n",
       "0                                        0   \n",
       "1                                        0   \n",
       "2                                        0   \n",
       "4                                        0   \n",
       "6  42-09 28th Street, Long Island City, NY   \n",
       "\n",
       "                               residency_requirement             posting_date  \\\n",
       "0  New York City residency is generally required ...  2011-06-24T00:00:00.000   \n",
       "1  New York City residency is generally required ...  2012-01-26T00:00:00.000   \n",
       "2               NYCHA has no residency requirements.  2013-10-24T00:00:00.000   \n",
       "4                NYCHA has no residency requirement.  2014-01-09T00:00:00.000   \n",
       "6  New York City residency is generally required ...  2013-12-09T00:00:00.000   \n",
       "\n",
       "  post_until          posting_updated             process_date  \n",
       "0          0  2011-06-24T00:00:00.000  2019-12-17T00:00:00.000  \n",
       "1          0  2012-01-26T00:00:00.000  2019-12-17T00:00:00.000  \n",
       "2          0  2013-12-12T00:00:00.000  2019-12-17T00:00:00.000  \n",
       "4          0  2014-01-08T00:00:00.000  2019-12-17T00:00:00.000  \n",
       "6          0  2013-12-09T00:00:00.000  2019-12-17T00:00:00.000  \n",
       "\n",
       "[5 rows x 27 columns]"
      ]
     },
     "execution_count": 14,
     "metadata": {},
     "output_type": "execute_result"
    }
   ],
   "source": [
    "DFrame.head()"
   ]
  },
  {
   "cell_type": "code",
   "execution_count": 15,
   "metadata": {},
   "outputs": [
    {
     "data": {
      "text/plain": [
       "(1661, 27)"
      ]
     },
     "execution_count": 15,
     "metadata": {},
     "output_type": "execute_result"
    }
   ],
   "source": [
    "DFrame.shape"
   ]
  },
  {
   "cell_type": "markdown",
   "metadata": {},
   "source": [
    "As you can see from the new head call the duplicate line was removed and we are down to 1661 rows of data. "
   ]
  },
  {
   "cell_type": "markdown",
   "metadata": {},
   "source": [
    "<h2>Combining Columns in the Data Frame</h2>  \n",
    "\n",
    "For right now we want to combine the 'business_title' and 'job_description' columns into a new column called 'processed_text'. You can do so in pandas with the following code. "
   ]
  },
  {
   "cell_type": "code",
   "execution_count": 16,
   "metadata": {},
   "outputs": [],
   "source": [
    "DFrame['processed_text'] = DFrame['business_title'] + \" \" + DFrame['job_description']"
   ]
  },
  {
   "cell_type": "markdown",
   "metadata": {},
   "source": [
    "<h2>Remove HTML</h2>\n",
    "\n",
    "I could not find any HTML tags in the nyc-jobs.csv file, but if there were we could remove them from a column with the following code. "
   ]
  },
  {
   "cell_type": "code",
   "execution_count": 17,
   "metadata": {},
   "outputs": [],
   "source": [
    "#First I will just define the function\n",
    "def remove_html(text):\n",
    "    soup = BeautifulSoup(text, 'lxml')\n",
    "    html_free = soup.get_text()\n",
    "    return html_free\n",
    "\n",
    "#Now lets say we wanted to run it on the 'job_description' column you could uncomment this line\n",
    "#DFrame['processed_text'] = DFrame['processed_text'].apply(lambda x: remove_html(x))\n",
    "#And could review the changes with this line\n",
    "#DFrame['processed_text'].head(10)"
   ]
  },
  {
   "cell_type": "markdown",
   "metadata": {},
   "source": [
    "<h2>Remove Punctuation</h2>\n",
    "\n",
    "Now we can remove punctuation from a column, treating it as a Series, and keep everything that is not in string.punctuation, which is a list of all punctuation that imported with the import string at the begining. \n",
    "\n",
    "For now I will only do this on the 'processed_text' column, but it will be easy to modify in the future if necessary.\n",
    "\n",
    "One thing of note about using this is that this method does not account for typos, e.g. \"however,the\" will turn into \"howeverthe\". If necessary we can create a copy of all columns we perform this on and just run any models on the columns seperatly if we are finding weird quirks in the data. "
   ]
  },
  {
   "cell_type": "code",
   "execution_count": 18,
   "metadata": {},
   "outputs": [
    {
     "data": {
      "text/plain": [
       "0     Account Manager Division of Economic Financial...\n",
       "1     EXECUTIVE DIRECTOR BUSINESS DEVELOPMENT The Ne...\n",
       "2     Maintenance Worker Technical ServicesHeating U...\n",
       "4     Temporary Painter Responsibilities of selected...\n",
       "6     Contract Analyst OPEN TO PERMANENT PROCUREMENT...\n",
       "7     Associate Chemist Working in the Distribution ...\n",
       "8     Cost Estimating Manager Reporting to the Deput...\n",
       "9     Office Manager Performs essential administrati...\n",
       "10    Deputy Director Audits and Accounts DoITT prov...\n",
       "11    CERTIFIED IT ADMINISTRATOR WAN Level Oversees ...\n",
       "Name: processed_text, dtype: object"
      ]
     },
     "execution_count": 18,
     "metadata": {},
     "output_type": "execute_result"
    }
   ],
   "source": [
    "#First I will just define the function\n",
    "def remove_punctuation(text):\n",
    "    no_punct = \"\".join([c for c in text if c not in string.punctuation])\n",
    "    # This line removes all numbers and non-chars\n",
    "    # source: https://kavita-ganesan.com/extracting-keywords-from-text-tfidf/#.XpRvAVNKi8U \n",
    "    no_punct = re.sub(\"(\\\\d|\\\\W)+\",\" \",no_punct)\n",
    "    return no_punct\n",
    "\n",
    "#Now I will just call it on the 'job_description' column and call .head() on it to make sure its not there\n",
    "DFrame['processed_text'] = DFrame['processed_text'].apply(lambda x: remove_punctuation(x))\n",
    "DFrame['processed_text'].head(10)"
   ]
  },
  {
   "cell_type": "markdown",
   "metadata": {},
   "source": [
    "<h2>Tokenize</h2>\n",
    "\n",
    "Now we will tokenize the text by column. This is when we break up the strings into a list of words or pieces using RegEx. The pattern also removes punctuation, and we can call .lower() in the lambda to make everything lowercase at this step as well. \n",
    "\n",
    "The RegexpTokenizer man page: https://kite.com/python/docs/nltk.RegexpTokenizer\n",
    "The \\w here is: When the LOCALE and UNICODE flags are not specified, matches any alphanumeric character and the underscore; this is equivalent to the set [a-zA-Z0-9_]. With LOCALE, it will match the set [0-9_] plus whatever characters are defined as alphanumeric for the current locale. If UNICODE is set, this will match the characters [0-9_] plus whatever is classified as alphanumeric in the Unicode character properties database.\n",
    "Source: https://docs.python.org/2/library/re.html\n",
    "\n",
    "Some other RegEx patterns we could use:\n",
    "‘\\w+|\\$[\\d\\.]+|\\S+’ = splits up by spaces or by periods that are not attached to a digit\n",
    "‘\\s+’, gaps=True = grabs everything except spaces as a token\n",
    "‘[A-Z]\\w+’ = only words that begin with a capital letter\n",
    "source: https://towardsdatascience.com/nlp-for-beginners-cleaning-preprocessing-text-data-ae8e306bef0f"
   ]
  },
  {
   "cell_type": "code",
   "execution_count": 19,
   "metadata": {},
   "outputs": [
    {
     "data": {
      "text/plain": [
       "0     [account, manager, division, of, economic, fin...\n",
       "1     [executive, director, business, development, t...\n",
       "2     [maintenance, worker, technical, servicesheati...\n",
       "4     [temporary, painter, responsibilities, of, sel...\n",
       "6     [contract, analyst, open, to, permanent, procu...\n",
       "7     [associate, chemist, working, in, the, distrib...\n",
       "8     [cost, estimating, manager, reporting, to, the...\n",
       "9     [office, manager, performs, essential, adminis...\n",
       "10    [deputy, director, audits, and, accounts, doit...\n",
       "11    [certified, it, administrator, wan, level, ove...\n",
       "Name: processed_text, dtype: object"
      ]
     },
     "execution_count": 19,
     "metadata": {},
     "output_type": "execute_result"
    }
   ],
   "source": [
    "#Create the tokenizer\n",
    "tokenizer = RegexpTokenizer(r'\\w+')\n",
    "\n",
    "#Now call .tokenize on the 'job_description' column. We could extend this to more columns as necessary\n",
    "DFrame['processed_text'] = DFrame['processed_text'].apply(lambda x: tokenizer.tokenize(x.lower()))\n",
    "#And lets look at the output of this\n",
    "DFrame['processed_text'].head(10)"
   ]
  },
  {
   "cell_type": "markdown",
   "metadata": {},
   "source": [
    "<h2>Remove Stop Words</h2>\n",
    "\n",
    "We will use a stop word list from the nltk.corpus, but we could use others if we wnated to by changeing the function we are about to define here. If you would like to see a list of all the stop words you could run stopwords.word('english'), or in any other language supported by NLTK.\n",
    "**This step takes a while to run**"
   ]
  },
  {
   "cell_type": "code",
   "execution_count": 20,
   "metadata": {},
   "outputs": [
    {
     "data": {
      "text/plain": [
       "0     [account, manager, division, economic, financi...\n",
       "1     [executive, director, business, development, n...\n",
       "2     [maintenance, worker, technical, servicesheati...\n",
       "4     [temporary, painter, responsibilities, selecte...\n",
       "6     [contract, analyst, open, permanent, procureme...\n",
       "7     [associate, chemist, working, distribution, wa...\n",
       "8     [cost, estimating, manager, reporting, deputy,...\n",
       "9     [office, manager, performs, essential, adminis...\n",
       "10    [deputy, director, audits, accounts, doitt, pr...\n",
       "11    [certified, administrator, wan, level, oversee...\n",
       "Name: processed_text, dtype: object"
      ]
     },
     "execution_count": 20,
     "metadata": {},
     "output_type": "execute_result"
    }
   ],
   "source": [
    "#First I will define the function to remove the stopwords\n",
    "def remove_stopwords(text):\n",
    "    words = [w for w in text if w not in stopwords.words('english')]\n",
    "    return words\n",
    "\n",
    "#Now we will just do it on the 'job_description' column for now, but could extend this to other columns easily\n",
    "DFrame['processed_text'] = DFrame['processed_text'].apply(lambda x: remove_stopwords(x))\n",
    "DFrame['processed_text'].head(10)"
   ]
  },
  {
   "cell_type": "markdown",
   "metadata": {},
   "source": [
    "<h2>Stemming &(or) Lemmatization</h2>\n",
    "\n",
    "Here we can either perform stemming or lemmatization on our list of words, but because we will be performing keyword extraction and then using the keywords as input to ConceptNet I will perform lemmatization on the 'job_description' column because stemming can return strings that are not actually words and we want to ensure a keyword gets a hit in ConceptNet. I will still include the function for stemming for future use (if necessary). "
   ]
  },
  {
   "cell_type": "code",
   "execution_count": 21,
   "metadata": {},
   "outputs": [
    {
     "data": {
      "text/plain": [
       "0     [account, manager, division, economic, financi...\n",
       "1     [executive, director, business, development, n...\n",
       "2     [maintenance, worker, technical, servicesheati...\n",
       "4     [temporary, painter, responsibility, selected,...\n",
       "6     [contract, analyst, open, permanent, procureme...\n",
       "7     [associate, chemist, working, distribution, wa...\n",
       "8     [cost, estimating, manager, reporting, deputy,...\n",
       "9     [office, manager, performs, essential, adminis...\n",
       "10    [deputy, director, audit, account, doitt, prov...\n",
       "11    [certified, administrator, wan, level, oversee...\n",
       "Name: processed_text, dtype: object"
      ]
     },
     "execution_count": 21,
     "metadata": {},
     "output_type": "execute_result"
    }
   ],
   "source": [
    "#The code for lemmatization:\n",
    "lemmatizer = WordNetLemmatizer()\n",
    "\n",
    "def word_lemmatizer(text):\n",
    "    lem_text = [lemmatizer.lemmatize(i) for i in text]\n",
    "    return lem_text\n",
    "\n",
    "DFrame['processed_text'] = DFrame['processed_text'].apply(lambda x: word_lemmatizer(x))\n",
    "DFrame['processed_text'].head(10)"
   ]
  },
  {
   "cell_type": "code",
   "execution_count": 22,
   "metadata": {},
   "outputs": [],
   "source": [
    "# The function for Stemming and then the line to call it commented out\n",
    "stemmer = PorterStemmer()\n",
    "def word_stemmer(text):\n",
    "    stem_text = \" \".join([stemmer.stem(i) for i in text])\n",
    "    return stem_text\n",
    "\n",
    "#DFrame['processed_text'] = DFrame['processed_text'].apply(lambda x: word_stemmer(x))\n",
    "#DFrame['processed_text'].head(10)"
   ]
  },
  {
   "cell_type": "markdown",
   "metadata": {},
   "source": [
    "<h2>Turning Lists back into strings</h2>\n",
    "Right now our 'job description' column is a column of lists, but we want to turn it back into just a column of strings for the next steps. Below is the code to perform that. "
   ]
  },
  {
   "cell_type": "code",
   "execution_count": 23,
   "metadata": {},
   "outputs": [
    {
     "data": {
      "text/plain": [
       "0     [account, manager, division, economic, financi...\n",
       "1     [executive, director, business, development, n...\n",
       "2     [maintenance, worker, technical, servicesheati...\n",
       "4     [temporary, painter, responsibility, selected,...\n",
       "6     [contract, analyst, open, permanent, procureme...\n",
       "7     [associate, chemist, working, distribution, wa...\n",
       "8     [cost, estimating, manager, reporting, deputy,...\n",
       "9     [office, manager, performs, essential, adminis...\n",
       "10    [deputy, director, audit, account, doitt, prov...\n",
       "11    [certified, administrator, wan, level, oversee...\n",
       "Name: processed_text, dtype: object"
      ]
     },
     "execution_count": 23,
     "metadata": {},
     "output_type": "execute_result"
    }
   ],
   "source": [
    "#Right now our 'job_description' column is a column of lists, and we just want it \n",
    "#to be a column of strings. We will transform it here\n",
    "def convert_to_text(text):\n",
    "    return ' '.join(text)\n",
    "\n",
    "DFrame['processed_text'].head(10)"
   ]
  },
  {
   "cell_type": "code",
   "execution_count": 24,
   "metadata": {},
   "outputs": [
    {
     "data": {
      "text/plain": [
       "0     account manager division economic financial op...\n",
       "1     executive director business development new yo...\n",
       "2     maintenance worker technical servicesheating u...\n",
       "4     temporary painter responsibility selected cand...\n",
       "6     contract analyst open permanent procurement an...\n",
       "7     associate chemist working distribution water q...\n",
       "8     cost estimating manager reporting deputy direc...\n",
       "9     office manager performs essential administrati...\n",
       "10    deputy director audit account doitt provides s...\n",
       "11    certified administrator wan level oversees des...\n",
       "Name: processed_text, dtype: object"
      ]
     },
     "execution_count": 24,
     "metadata": {},
     "output_type": "execute_result"
    }
   ],
   "source": [
    "#Now we will make a new column called 'jd_text' and run the function on it\n",
    "DFrame['processed_text'] = DFrame['processed_text'].apply(lambda x: convert_to_text(x))\n",
    "DFrame['processed_text'].head(10)"
   ]
  },
  {
   "cell_type": "markdown",
   "metadata": {},
   "source": [
    "<h2>Removing Non-English Words</h2>  \n",
    "\n",
    "Currently there are some non-english words in our documents (they are either misspellings or words that were cut off somehow) that need to be filtered out. \n",
    "\n",
    "Source: https://stackoverflow.com/questions/41290028/removing-non-english-words-from-text-using-python"
   ]
  },
  {
   "cell_type": "code",
   "execution_count": 25,
   "metadata": {},
   "outputs": [
    {
     "data": {
      "text/plain": [
       "0     account manager division economic financial op...\n",
       "1     executive director business development new yo...\n",
       "2     maintenance worker technical unit direct super...\n",
       "4     temporary painter responsibility selected cand...\n",
       "6     contract analyst open permanent procurement an...\n",
       "7     associate chemist working distribution water q...\n",
       "8     cost manager deputy director technical latitud...\n",
       "9     office manager essential administrative functi...\n",
       "10    deputy director audit account sustained effici...\n",
       "11    certified administrator wan level design insta...\n",
       "Name: processed_text, dtype: object"
      ]
     },
     "execution_count": 25,
     "metadata": {},
     "output_type": "execute_result"
    }
   ],
   "source": [
    "words = set(nltk.corpus.words.words())\n",
    "def remove_non_english_words(text):\n",
    "    return \" \".join(w for w in nltk.wordpunct_tokenize(text) if w.lower() in words or not w.isalpha())\n",
    "\n",
    "DFrame['processed_text'] = DFrame['processed_text'].apply(lambda x: remove_non_english_words(x))\n",
    "DFrame['processed_text'].head(10)"
   ]
  },
  {
   "cell_type": "markdown",
   "metadata": {},
   "source": [
    "<h2>Exporting the Data Frame</h2>\n",
    "\n",
    "At this point if you would like to export the data frame to a csv file you could run the following code, just make sure you change the file path to the correct directory. \n",
    "\n",
    "Source: https://datatofish.com/export-dataframe-to-csv/"
   ]
  },
  {
   "cell_type": "code",
   "execution_count": 27,
   "metadata": {},
   "outputs": [],
   "source": [
    "DFrame.to_csv(r'C:\\Users\\Joshua\\Google Drive\\Thesis Work\\Python\\nyc-jobs-cleaned.csv', index = False, header = True)"
   ]
  },
  {
   "cell_type": "code",
   "execution_count": null,
   "metadata": {},
   "outputs": [],
   "source": []
  }
 ],
 "metadata": {
  "kernelspec": {
   "display_name": "Python 3",
   "language": "python",
   "name": "python3"
  },
  "language_info": {
   "codemirror_mode": {
    "name": "ipython",
    "version": 3
   },
   "file_extension": ".py",
   "mimetype": "text/x-python",
   "name": "python",
   "nbconvert_exporter": "python",
   "pygments_lexer": "ipython3",
   "version": "3.7.6"
  }
 },
 "nbformat": 4,
 "nbformat_minor": 4
}
